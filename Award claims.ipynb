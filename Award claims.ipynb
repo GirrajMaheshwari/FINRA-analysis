{
 "cells": [
  {
   "cell_type": "code",
   "execution_count": null,
   "metadata": {
    "collapsed": true
   },
   "outputs": [],
   "source": [
    "#required packages\n",
    "from operator import itemgetter\n",
    "import nltk\n",
    "import nltk.tokenize\n",
    "from nltk.tokenize import word_tokenize\n",
    "from collections import Counter\n",
    "import string\n",
    "from nltk.tokenize import RegexpTokenizer\n",
    "from nltk.corpus import stopwords\n",
    "from nltk.stem import PorterStemmer\n",
    "ps = PorterStemmer()\n",
    "import re\n",
    "import pandas as pd\n",
    "import numpy as np\n",
    "import os"
   ]
  },
  {
   "cell_type": "code",
   "execution_count": null,
   "metadata": {
    "scrolled": true
   },
   "outputs": [],
   "source": [
    "# get string between two words - AWARDS and FEES\n",
    "dict = {}\n",
    "src = \"C://Users//acer1//Desktop//Course content//Legal analytics//Legal Analytics Project//Corpus\"\n",
    "for files in os.listdir(src)[16:125]:\n",
    "    Document_text = open(\"C://Users//acer1//Desktop//Course content//Legal analytics//Legal Analytics Project//Corpus//%s\"%files)\n",
    "    Data = Document_text.read()\n",
    "    if \"AWARD\" in Data and \"FEES\" in Data:\n",
    "        \n",
    "        #so replace new line and para (issue in reading)\n",
    "        result = re.search(r'AWARD(.*)FEES', Data.replace(\"\\n\\n\", \"new_para \").replace(\"\\n\", \"new_line \"))\n",
    "        text_filtered  = result.group(1)\n",
    "        \n",
    "        #split sentences\n",
    "        text_filtered_sent = re.split('(?<!\\w\\.\\w.)(?<![A-Z][a-z]\\.)(?<=\\.|\\?)(\\s|[A-Z].*)',text_filtered)\n",
    "        \n",
    "        print files\n",
    "        for i in text_filtered_sent:\n",
    "            if \"$\" in i:\n",
    "                if len(i.split()) > 5 and len(i.split()) < 150:\n",
    "                    amount  = re.findall(r'\\$(\\w+)', i.replace(\",\", \"\"))[0]\n",
    "                    print amount ,\"text\", i , \"\\n\"\n",
    "#print dict"
   ]
  },
  {
   "cell_type": "code",
   "execution_count": null,
   "metadata": {},
   "outputs": [],
   "source": [
    "# big sentences\n",
    "# Small sentences\n",
    "s = \" amount of $2,492,442.07 above its existing pension and ben and $344 ffb\"\n",
    "re.findall(r'\\$(\\w+)', s.replace(\",\", \"\"))[0]"
   ]
  },
  {
   "cell_type": "code",
   "execution_count": null,
   "metadata": {},
   "outputs": [],
   "source": [
    "#D = open(\"C://Users//acer1//Desktop//Course content//Legal analytics//Legal Analytics Project//Corpus//06-02954_11318.pdf.txt\")\n",
    "#d1 = D.read().split(\"AWARD\")[1]\n",
    "#d1"
   ]
  },
  {
   "cell_type": "code",
   "execution_count": null,
   "metadata": {
    "collapsed": true
   },
   "outputs": [],
   "source": []
  },
  {
   "cell_type": "code",
   "execution_count": null,
   "metadata": {
    "collapsed": true
   },
   "outputs": [],
   "source": []
  },
  {
   "cell_type": "code",
   "execution_count": null,
   "metadata": {
    "collapsed": true
   },
   "outputs": [],
   "source": [
    "#text_filtered_sent = re.split(r'(?<=[^A-Z].[.?]) +(?=[A-Z])', text_filtered)\n",
    "#text_filtered_sent = re.split(\"new_para\", text_filtered)"
   ]
  }
 ],
 "metadata": {
  "kernelspec": {
   "display_name": "Python 2",
   "language": "python",
   "name": "python2"
  },
  "language_info": {
   "codemirror_mode": {
    "name": "ipython",
    "version": 2
   },
   "file_extension": ".py",
   "mimetype": "text/x-python",
   "name": "python",
   "nbconvert_exporter": "python",
   "pygments_lexer": "ipython2",
   "version": "2.7.13"
  }
 },
 "nbformat": 4,
 "nbformat_minor": 2
}
