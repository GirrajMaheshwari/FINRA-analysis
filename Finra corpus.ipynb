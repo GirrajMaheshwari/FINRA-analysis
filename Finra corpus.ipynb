{
 "cells": [
  {
   "cell_type": "code",
   "execution_count": 22,
   "metadata": {
    "collapsed": true
   },
   "outputs": [],
   "source": [
    "#copying finra file after 2010\n",
    "import os\n",
    "import shutil\n",
    "import pandas as pd\n",
    "\n",
    "#src_files = os.listdir(src)\n"
   ]
  },
  {
   "cell_type": "code",
   "execution_count": 23,
   "metadata": {
    "collapsed": true
   },
   "outputs": [],
   "source": [
    "df = pd.read_excel(\"C://Users//acer1//Desktop//Course content//Legal analytics//Legal Analytics Project//Finra_2010.xlsx\")"
   ]
  },
  {
   "cell_type": "code",
   "execution_count": 27,
   "metadata": {
    "collapsed": true
   },
   "outputs": [],
   "source": [
    "src = \"C://Users//acer1//Desktop//Course content//Legal analytics//Legal Analytics Project//FINRA text\"\n",
    "dest = \"C://Users//acer1//Desktop//Course content//Legal analytics//Legal Analytics Project//Corpus\"\n",
    "for file_name in df.file_name:\n",
    "    full_file_name = os.path.join(src, file_name)\n",
    "    if (os.path.isfile(full_file_name)):\n",
    "        shutil.copy(full_file_name, dest)"
   ]
  },
  {
   "cell_type": "code",
   "execution_count": null,
   "metadata": {
    "collapsed": true
   },
   "outputs": [],
   "source": []
  }
 ],
 "metadata": {
  "kernelspec": {
   "display_name": "Python 2",
   "language": "python",
   "name": "python2"
  },
  "language_info": {
   "codemirror_mode": {
    "name": "ipython",
    "version": 2
   },
   "file_extension": ".py",
   "mimetype": "text/x-python",
   "name": "python",
   "nbconvert_exporter": "python",
   "pygments_lexer": "ipython2",
   "version": "2.7.13"
  }
 },
 "nbformat": 4,
 "nbformat_minor": 2
}
